{
 "cells": [
  {
   "cell_type": "code",
   "execution_count": 1,
   "metadata": {},
   "outputs": [
    {
     "data": {
      "text/html": [
       " <style>     div#notebook-container { width: 95%;} div#menubar-container { width: 85%; } div#maintoolbar-container { width: 99%; } </style> "
      ],
      "text/plain": [
       "<IPython.core.display.HTML object>"
      ]
     },
     "metadata": {},
     "output_type": "display_data"
    },
    {
     "name": "stdout",
     "output_type": "stream",
     "text": [
      "flopy is installed in C:\\Users\\cshuler\\AppData\\Local\\Continuum\\anaconda3\\envs\\ASPA_Framework\\lib\\site-packages\\flopy\n"
     ]
    }
   ],
   "source": [
    "from IPython.display import display, HTML      # wide screen\n",
    "display(HTML(data=\"\"\" <style>     div#notebook-container { width: 95%;} div#menubar-container { width: 85%; } div#maintoolbar-container { width: 99%; } </style> \"\"\"))\n",
    "\n",
    "import os\n",
    "import sys\n",
    "import platform\n",
    "import math\n",
    "import numpy as np\n",
    "import matplotlib as mpl\n",
    "import matplotlib.pyplot as plt\n",
    "import flopy\n",
    "import flopy.utils.binaryfile as bf\n",
    "from flopy.export.shapefile_utils import shp2recarray\n",
    "from rasterio import Affine\n",
    "from flopy.utils.reference import SpatialReference\n",
    "import shapefile    # not used directly here but for some reason flopy needs this to do shapefile stuff and BTW its not import pyshp as you would think its import shapefile, dumb...\n",
    "import pandas as pd\n",
    "import fiona\n",
    "from rasterio.features import rasterize\n",
    "import rasterio\n",
    "import rasterio.mask\n",
    "import geopandas\n",
    "from osgeo import gdal"
   ]
  },
  {
   "cell_type": "markdown",
   "metadata": {},
   "source": [
    "#### Numpy array convert to .asc file\n"
   ]
  },
  {
   "cell_type": "code",
   "execution_count": 2,
   "metadata": {},
   "outputs": [],
   "source": [
    "# take a numpy array from this model and turn it into a .asc raster based on the model geometry dimensions\n",
    "def nparray_to_asc(input_array, output_raster, ncol, nrow, xll, yll, cellsize):\n",
    "\n",
    "    np.savetxt(output_raster, input_array)\n",
    "\n",
    "    new_first = ('NCOLS {}\\n'                        # these are the parameters for the .asc file\n",
    "                 'NROWS {}\\n'\n",
    "                 'XLLCENTER {}\\n'\n",
    "                 'YLLCENTER {}\\n'\n",
    "                 'CELLSIZE {}\\n'\n",
    "                 'NODATA_value -999.0\\n'.format(ncol,nrow, xll, yll, np.mean([delc, delr]) ))  \n",
    "\n",
    "    with open(output_raster, 'r+') as file:                # add in new first line and save file  \n",
    "        file_data = file.read()\n",
    "        file. seek(0, 0)\n",
    "        file. write(new_first + '\\n' + file_data)"
   ]
  },
  {
   "cell_type": "code",
   "execution_count": 5,
   "metadata": {},
   "outputs": [],
   "source": [
    "# model geometry from regional model\n",
    "# params to pass to Model class\n",
    "delr = 169 \n",
    "delc = 165\n",
    "nlay = 1\n",
    "nrow = 100\n",
    "ncol = 200\n",
    "botm = -1250\n",
    "xll = 515244    # hard code too\n",
    "yll = 8410178\n",
    "\n",
    "# Manuall moved over the .hds file, this utility will extract the heads\n",
    "hds = bf.HeadFile('modelface_PYPCGA.hds')\n",
    "times = hds.get_times() # simulation time, steady state\n",
    "head = hds.get_data(totim=times[-1])"
   ]
  },
  {
   "cell_type": "code",
   "execution_count": 6,
   "metadata": {},
   "outputs": [],
   "source": [
    "cellsize = np.mean([delc, delr])\n",
    "\n",
    "headsqeeze = np.squeeze(head)\n",
    "\n",
    "nparray_to_asc(headsqeeze, \"PyPCGA_model_Heads.asc\", ncol=ncol, nrow=nrow, xll=xll, yll=yll, cellsize=cellsize)"
   ]
  },
  {
   "cell_type": "code",
   "execution_count": null,
   "metadata": {},
   "outputs": [],
   "source": []
  },
  {
   "cell_type": "code",
   "execution_count": null,
   "metadata": {},
   "outputs": [],
   "source": []
  }
 ],
 "metadata": {
  "kernelspec": {
   "display_name": "Python 3",
   "language": "python",
   "name": "python3"
  },
  "language_info": {
   "codemirror_mode": {
    "name": "ipython",
    "version": 3
   },
   "file_extension": ".py",
   "mimetype": "text/x-python",
   "name": "python",
   "nbconvert_exporter": "python",
   "pygments_lexer": "ipython3",
   "version": "3.8.2"
  }
 },
 "nbformat": 4,
 "nbformat_minor": 4
}
