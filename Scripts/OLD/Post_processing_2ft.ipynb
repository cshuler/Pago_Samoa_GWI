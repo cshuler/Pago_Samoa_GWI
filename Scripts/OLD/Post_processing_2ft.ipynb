{
 "cells": [
  {
   "cell_type": "code",
   "execution_count": 1,
   "metadata": {},
   "outputs": [
    {
     "data": {
      "text/html": [
       "\n",
       "<style>\n",
       "    div#notebook-container { width: 95%;} div#menubar-container { width: 85%; } div#maintoolbar-container { width: 99%; } </style> "
      ],
      "text/plain": [
       "<IPython.core.display.HTML object>"
      ]
     },
     "metadata": {},
     "output_type": "display_data"
    }
   ],
   "source": [
    "import arcpy\n",
    "arcpy.env.overwriteOutput = True \n",
    "from arcpy.sa import *\n",
    "from arcpy import env\n",
    "\n",
    "import os\n",
    "import pandas as pd\n",
    "import numpy as np\n",
    "\n",
    "workspace = os.path.join(\"..\", \"..\", 'RISA_yr6_GIT_ignored_files', 'Flo_py_wrkspace5_SLR2ft')\n",
    "tempspace = os.path.join(workspace, \"temp\")\n",
    "\n",
    "outspace = os.path.join(workspace, 'Outputs')\n",
    "#make sure workspace directory exists\n",
    "if not os.path.exists(outspace):\n",
    "    os.makedirs(outspace)\n",
    "    \n",
    "from IPython.display import display, HTML\n",
    "display(HTML(data=\"\"\"\n",
    "<style>\n",
    "    div#notebook-container { width: 95%;} div#menubar-container { width: 85%; } div#maintoolbar-container { width: 99%; } </style> \"\"\"))"
   ]
  },
  {
   "cell_type": "code",
   "execution_count": 2,
   "metadata": {},
   "outputs": [
    {
     "name": "stdout",
     "output_type": "stream",
     "text": [
      "Length of flooded Relevant_Sewer_Lines_core.shp is 118.80104820620501 m\n",
      "Total Original Length of Relevant_Sewer_Lines_core.shp is 42315.5045899074 m\n",
      "Percent of flooded Relevant_Sewer_Lines_core.shp is 0.3%  \n",
      "\n",
      "Length of flooded ASPA_water_Distribution_core.shp is 260.865548699304 m\n",
      "Total Original Length of ASPA_water_Distribution_core.shp is 44057.93550498824 m\n",
      "Percent of flooded ASPA_water_Distribution_core.shp is 0.6%  \n",
      "\n",
      "Length of flooded ASPA_water_Transmission_core.shp is 242.06322247121003 m\n",
      "Total Original Length of ASPA_water_Transmission_core.shp is 47137.500621334475 m\n",
      "Percent of flooded ASPA_water_Transmission_core.shp is 0.5%  \n",
      "\n",
      "Length of flooded Roads_2006_core.shp is 288.07781020891997 m\n",
      "Total Original Length of Roads_2006_core.shp is 76765.56681189116 m\n",
      "Percent of flooded Roads_2006_core.shp is 0.4%  \n",
      "\n",
      "Total number of ASPA_CustomerMeters_core.shp is 1329\n",
      "Number of flooded ASPA_CustomerMeters_core.shp is 1\n",
      "Percent of flooded ASPA_CustomerMeters_core.shp is 0.1%  \n",
      "\n",
      "Total number of ASPA_water_Boosters_core.shp is 5\n",
      "Number of flooded ASPA_water_Boosters_core.shp is 0\n",
      "Percent of flooded ASPA_water_Boosters_core.shp is 0.0%  \n",
      "\n",
      "Total number of All_sewer_LiftStations_core.shp is 8\n",
      "Number of flooded All_sewer_LiftStations_core.shp is 0\n",
      "Percent of flooded All_sewer_LiftStations_core.shp is 0.0%  \n",
      "\n"
     ]
    }
   ],
   "source": [
    "# Find areas where infrastructure is seated below a certain elevation on a DEM   ( Not sure if I need thiss?? # arcpy.CheckOutExtension(\"Spatial\")) \n",
    "\n",
    "SLR_level = .0001    # the level of sea level rise to stipulate\n",
    "\n",
    "# make a 1 or 0 raster of the areas where the raster value is LT or GT the stipliated value (have to pay attention the sign \n",
    "\n",
    "\n",
    "#in_raster = os.path.join(\"..\",  'Data/Raw/GIS/3m_DEM', '3m_dem_cp.tif')\n",
    "\n",
    "in_raster = os.path.join(workspace, 'dep2Wat_SLR2ft.asc')\n",
    "\n",
    "outraster = os.path.join(tempspace, 'LT1m1mdem.tif')\n",
    "DaNewraster = Raster(in_raster) < SLR_level  \n",
    "DaNewraster.save(outraster)\n",
    "\n",
    "# Convert the raster to polygons\n",
    "outPolygons = os.path.join(tempspace, 'temp.shp')\n",
    "arcpy.RasterToPolygon_conversion(outraster, outPolygons, \"NO_SIMPLIFY\")\n",
    "\n",
    "## Delete any areas where the raster (now gridcode attribute) is 0\n",
    "arcpy.MakeFeatureLayer_management(outPolygons, \"Temp_Poly\")\n",
    "Selection = arcpy.SelectLayerByAttribute_management(\"Temp_Poly\", \"NEW_SELECTION\", \"gridcode > 0\")\n",
    "arcpy.CopyFeatures_management(Selection, os.path.join(tempspace, 'Flooded_Area.shp'))\n",
    "\n",
    "\n",
    "#  Clip some infrastructure based on the inundated areas\n",
    "InfraShpPath = os.path.join(\"..\", 'Data/Raw/GIS/Infrastructure/Clipped')\n",
    "\n",
    "for shpo in os.listdir(InfraShpPath):\n",
    "    if shpo.endswith(\".shp\"):\n",
    "        intoclip = os.path.join(InfraShpPath, shpo) \n",
    "        \n",
    "        # First copy the original features to calculate and print the total lengths of polylines later\n",
    "        arcpy.management.CopyFeatures(intoclip, os.path.join(tempspace, \"Length_{}\".format(shpo)))\n",
    "        \n",
    "        # Now do the actual clipping of flooded areas\n",
    "        out_clipped  = os.path.join(outspace, \"Flooded_{}\".format(shpo))\n",
    "        arcpy.Clip_analysis(intoclip, os.path.join(tempspace, 'Flooded_Area.shp'), out_clipped)       \n",
    "        \n",
    "        \n",
    "        \n",
    "### Calculate some info about the floddedness of the polylines and points\n",
    "Polyline_infrstructures = ['Relevant_Sewer_Lines_core.shp', 'ASPA_water_Distribution_core.shp', \n",
    "                           'ASPA_water_Transmission_core.shp', 'Roads_2006_core.shp'] \n",
    "\n",
    "for i in Polyline_infrstructures:\n",
    "    fc = os.path.join(outspace, \"Flooded_\"+i)\n",
    "    arcpy.AddField_management(fc, 'lenFlod_m','DOUBLE')\n",
    "    arcpy.management.CalculateField(fc, \"lenFlod_m\", \"!SHAPE.geodesicLength@METERS!\")   \n",
    "    field = arcpy.da.TableToNumPyArray (fc, \"lenFlod_m\", skip_nulls=True)\n",
    "    flod_len = field[\"lenFlod_m\"].sum()\n",
    "    print(\"Length of flooded {} is {} m\".format(i, flod_len)) \n",
    "    \n",
    "    fc_OG = os.path.join(tempspace, \"Length_{}\".format(i))\n",
    "    arcpy.AddField_management(fc_OG, 'lenOG_m','DOUBLE')\n",
    "    arcpy.management.CalculateField(fc_OG, \"lenOG_m\", \"!SHAPE.geodesicLength@METERS!\")   \n",
    "    field = arcpy.da.TableToNumPyArray (fc_OG, \"lenOG_m\", skip_nulls=True)\n",
    "    tot_len = field[\"lenOG_m\"].sum()\n",
    "    print(\"Total Original Length of {} is {} m\".format(i, tot_len)) \n",
    "    \n",
    "    pct_flooded = round((flod_len/tot_len)*100, 1)\n",
    "    print(\"Percent of flooded {} is {}%  \\n\".format(i, pct_flooded))\n",
    "    \n",
    "\n",
    "# Get some stats on the points \n",
    "Point_infrstructures = ['ASPA_CustomerMeters_core.shp', 'ASPA_water_Boosters_core.shp', 'All_sewer_LiftStations_core.shp'] \n",
    "\n",
    "for i in Point_infrstructures:\n",
    "    fc = os.path.join(InfraShpPath, i)\n",
    "    field = arcpy.da.TableToNumPyArray (fc, \"FID\", skip_nulls=True)\n",
    "    tot_things = len(field)\n",
    "    print(\"Total number of {} is {}\".format(i, tot_things))\n",
    "    \n",
    "    floddedones = os.path.join(outspace, \"Flooded_{}\".format(i))\n",
    "    field = arcpy.da.TableToNumPyArray (floddedones, \"FID\", skip_nulls=True)\n",
    "    flood_things = len(field)\n",
    "    print(\"Number of flooded {} is {}\".format(i, flood_things))\n",
    "    \n",
    "    pct_flooded = round((flood_things/tot_things)*100, 1)\n",
    "    print(\"Percent of flooded {} is {}%  \\n\".format(i, pct_flooded))\n"
   ]
  },
  {
   "cell_type": "code",
   "execution_count": null,
   "metadata": {
    "collapsed": true
   },
   "outputs": [],
   "source": []
  },
  {
   "cell_type": "markdown",
   "metadata": {},
   "source": [
    "### Some context and results notes\n",
    "\n",
    "TO consider: \n",
    "- should report results of surface inundated features (SLR_level of 0) and subsurface inundated features (SLR_level of 1) too\n",
    "\n",
    "\n",
    "The calibrated base scenario seems to do a reasonably good job of showing where average condition groundwater inundation occurrs. Areas in the present day base scenario where water reaches the ground surface match well with areas where there are canals or other persistant nearshore water features (Figure if need) \n",
    "\n",
    "\n",
    "Sewer lines includes all force and gravity mains on the asbuilts which we recognize to be an incomplete dataset, but is the best available provided by the utility. \n",
    "\n",
    "In present day conditions, of the 9.11 km total of water mains (44.1 km of distribution, 47.1 km of transmission), if we assume a 1 m depth then a total of 3.4 km are consistently inundated with water = 3.7%\n",
    "In present day conditions, of the 42.3 km total of sewer lines, if we assume a 1 m depth then a total of 1.4 km are consistently inundated with water = 3.3%  \n",
    "[STILL NEED BURIED ELECTRICAL LINES] \n",
    "\n",
    "\n",
    "\n"
   ]
  },
  {
   "cell_type": "code",
   "execution_count": 13,
   "metadata": {},
   "outputs": [
    {
     "data": {
      "text/plain": [
       "3394.221881651913"
      ]
     },
     "execution_count": 13,
     "metadata": {},
     "output_type": "execute_result"
    }
   ],
   "source": [
    "1602.151806359655 +1792.070075292258 \n",
    "\n"
   ]
  },
  {
   "cell_type": "code",
   "execution_count": 12,
   "metadata": {},
   "outputs": [
    {
     "data": {
      "text/plain": [
       "91195.43612632272"
      ]
     },
     "execution_count": 12,
     "metadata": {},
     "output_type": "execute_result"
    }
   ],
   "source": [
    "47137.500621334475 +44057.93550498824 "
   ]
  },
  {
   "cell_type": "code",
   "execution_count": 14,
   "metadata": {},
   "outputs": [
    {
     "data": {
      "text/plain": [
       "0.03721920773480683"
      ]
     },
     "execution_count": 14,
     "metadata": {},
     "output_type": "execute_result"
    }
   ],
   "source": [
    "3394.221881651913/91195.43612632272"
   ]
  },
  {
   "cell_type": "code",
   "execution_count": null,
   "metadata": {
    "collapsed": true
   },
   "outputs": [],
   "source": []
  }
 ],
 "metadata": {
  "kernelspec": {
   "display_name": "Python 3",
   "language": "python",
   "name": "python3"
  },
  "language_info": {
   "codemirror_mode": {
    "name": "ipython",
    "version": 3
   },
   "file_extension": ".py",
   "mimetype": "text/x-python",
   "name": "python",
   "nbconvert_exporter": "python",
   "pygments_lexer": "ipython3",
   "version": "3.6.2"
  }
 },
 "nbformat": 4,
 "nbformat_minor": 2
}
