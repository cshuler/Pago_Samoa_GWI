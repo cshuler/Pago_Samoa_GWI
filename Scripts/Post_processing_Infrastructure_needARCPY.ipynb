{
 "cells": [
  {
   "cell_type": "code",
   "execution_count": 9,
   "metadata": {},
   "outputs": [],
   "source": [
    "import arcpy\n",
    "arcpy.env.overwriteOutput = True \n",
    "from arcpy.sa import *\n",
    "from arcpy import env\n",
    "\n",
    "import os\n",
    "import pandas as pd\n",
    "import numpy as np\n",
    "\n",
    "workspace = os.path.join(\"..\", \"..\", 'RISA_yr6_GIT_ignored_files', 'Flo_py_wrkspace4')\n",
    "tempspace = os.path.join(workspace, \"temp\")\n",
    "\n",
    "outspace = os.path.join(workspace, 'Outputs')\n",
    "#make sure workspace directory exists\n",
    "if not os.path.exists(outspace):\n",
    "    os.makedirs(outspace)"
   ]
  },
  {
   "cell_type": "code",
   "execution_count": 2,
   "metadata": {},
   "outputs": [
    {
     "data": {
      "text/plain": [
       "<Result 'Temp_Poly'>"
      ]
     },
     "execution_count": 2,
     "metadata": {},
     "output_type": "execute_result"
    }
   ],
   "source": [
    "# Find areas where infrastructure is seated below a certain elevation on a DEM   ( Not sure if I need thiss?? # arcpy.CheckOutExtension(\"Spatial\")) \n",
    "\n",
    "SLR_level = 3    # the level of sea level rise to stipulate\n",
    "\n",
    "# make a 1 or 0 raster of the areas where the raster value is LT or GT the stipliated value (have to pay attention the sign \n",
    "in_raster = os.path.join(\"..\",  'Data/Raw/GIS/3m_DEM', '3m_dem_cp.tif')\n",
    "outraster = os.path.join(tempspace, 'LT1m1mdem.tif')\n",
    "DaNewraster = Raster(in_raster) < SLR_level  \n",
    "DaNewraster.save(outraster)\n",
    "\n",
    "# Convert the raster to polygons\n",
    "outPolygons = os.path.join(tempspace, 'LT1m1mdem_polys2.shp')\n",
    "arcpy.RasterToPolygon_conversion(outraster, outPolygons, \"NO_SIMPLIFY\")\n",
    "\n",
    "# Delete any areas where the raster (now gridcode attribute) is 0\n",
    "criteria =  \"gridcode = 0\"  \n",
    "arcpy.MakeFeatureLayer_management(outPolygons, \"Temp_Poly\", criteria)   \n",
    "arcpy.DeleteRows_management(\"Temp_Poly\")  \n"
   ]
  },
  {
   "cell_type": "code",
   "execution_count": 8,
   "metadata": {},
   "outputs": [
    {
     "data": {
      "text/plain": [
       "<Result '..\\\\..\\\\RISA_yr6_GIT_ignored_files\\\\Flo_py_wrkspace4\\\\temp\\\\TESTING_3m_Roads_FLOODED.shp'>"
      ]
     },
     "execution_count": 8,
     "metadata": {},
     "output_type": "execute_result"
    }
   ],
   "source": [
    "#  Clip some infrastructure based on the inundated areas\n",
    "intoclip = os.path.join(\"..\", 'Data/Raw/GIS/Infrastructure/Clipped', \"Roads_2006_clip.shp\" ) \n",
    "\n",
    "out_clipped  = os.path.join(tempspace, \"TESTING_3m_Roads_FLOODED.shp\")\n",
    "arcpy.Clip_analysis(intoclip, os.path.join(tempspace, 'LT1m1mdem_polys2.shp'), out_clipped)"
   ]
  },
  {
   "cell_type": "code",
   "execution_count": 14,
   "metadata": {},
   "outputs": [],
   "source": [
    "# Clip all infrastructures in a folder\n",
    "\n",
    "InfraShpPath = os.path.join(\"..\", 'Data/Raw/GIS/Infrastructure/Clipped')\n",
    "\n",
    "for shpo in os.listdir(InfraShpPath):\n",
    "    if shpo.endswith(\".shp\"):\n",
    "        intoclip = os.path.join(InfraShpPath, shpo ) \n",
    "       \n",
    "        out_clipped  = os.path.join(outspace, \"{}_FLOODED.shp\".format(shpo))\n",
    "        arcpy.Clip_analysis(intoclip, os.path.join(tempspace, 'LT1m1mdem_polys2.shp'), out_clipped)     \n",
    "   \n"
   ]
  },
  {
   "cell_type": "code",
   "execution_count": 19,
   "metadata": {},
   "outputs": [
    {
     "ename": "AttributeError",
     "evalue": "module 'arcpy.management' has no attribute 'CalculateGeometryAttributes_management'",
     "output_type": "error",
     "traceback": [
      "\u001b[1;31m---------------------------------------------------------------------------\u001b[0m",
      "\u001b[1;31mAttributeError\u001b[0m                            Traceback (most recent call last)",
      "\u001b[1;32m<ipython-input-19-d7229030e2f7>\u001b[0m in \u001b[0;36m<module>\u001b[1;34m()\u001b[0m\n\u001b[0;32m      1\u001b[0m \u001b[0mboop\u001b[0m  \u001b[1;33m=\u001b[0m\u001b[0mos\u001b[0m\u001b[1;33m.\u001b[0m\u001b[0mpath\u001b[0m\u001b[1;33m.\u001b[0m\u001b[0mjoin\u001b[0m\u001b[1;33m(\u001b[0m\u001b[0moutspace\u001b[0m\u001b[1;33m,\u001b[0m \u001b[1;34m\"{}_FLOODED.shp\"\u001b[0m\u001b[1;33m.\u001b[0m\u001b[0mformat\u001b[0m\u001b[1;33m(\u001b[0m\u001b[0mshpo\u001b[0m\u001b[1;33m)\u001b[0m\u001b[1;33m)\u001b[0m\u001b[1;33m\u001b[0m\u001b[0m\n\u001b[1;32m----> 2\u001b[1;33m \u001b[0marcpy\u001b[0m\u001b[1;33m.\u001b[0m\u001b[0mmanagement\u001b[0m\u001b[1;33m.\u001b[0m\u001b[0mCalculateGeometryAttributes_management\u001b[0m\u001b[1;33m(\u001b[0m\u001b[0mboop\u001b[0m\u001b[1;33m,\u001b[0m \u001b[1;34m\"LENGTH\"\u001b[0m\u001b[1;33m)\u001b[0m\u001b[1;33m\u001b[0m\u001b[0m\n\u001b[0m",
      "\u001b[1;31mAttributeError\u001b[0m: module 'arcpy.management' has no attribute 'CalculateGeometryAttributes_management'"
     ]
    }
   ],
   "source": [
    "boop  =os.path.join(outspace, \"{}_FLOODED.shp\".format(shpo)) \n",
    "arcpy.management.CalculateGeometryAttributes_management(boop, \"LENGTH\")"
   ]
  },
  {
   "cell_type": "code",
   "execution_count": null,
   "metadata": {
    "collapsed": true
   },
   "outputs": [],
   "source": []
  }
 ],
 "metadata": {
  "kernelspec": {
   "display_name": "Python 3",
   "language": "python",
   "name": "python3"
  },
  "language_info": {
   "codemirror_mode": {
    "name": "ipython",
    "version": 3
   },
   "file_extension": ".py",
   "mimetype": "text/x-python",
   "name": "python",
   "nbconvert_exporter": "python",
   "pygments_lexer": "ipython3",
   "version": "3.6.2"
  }
 },
 "nbformat": 4,
 "nbformat_minor": 2
}
